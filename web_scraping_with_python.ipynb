{
 "cells": [
  {
   "cell_type": "markdown",
   "metadata": {},
   "source": [
    "# Web scraping \n",
    "\n",
<<<<<<< HEAD
    "The following content heavily draws on [Web Scraping with Python](https://proquest.safaribooksonline.com/book/programming/python/9781491985564) (2018) by Ryan Mitchell."
=======
    "The following content heavily draws on [Web Scraping with Python](https://proquest.safaribooksonline.com/book/programming/python/9781491985564) (2018) by Ryan Mitchell. Python is great for web scraping because its [beautiful soup](https://www.crummy.com/software/BeautifulSoup/) library makes parsing HTML so easy."
>>>>>>> dbb4a30b523e80f19c96b14effe186a14821e0df
   ]
  },
  {
   "cell_type": "markdown",
   "metadata": {},
   "source": [
    "## Definition\n",
    "\n",
    "Web scraping collects data from Web other than using API. You can do that by writing a simple program to query a web server, request data, and parse the HTML data to extract information you need.\n",
    "\n",
    "**Web scraping workflow**\n",
    "\n",
<<<<<<< HEAD
    "- Request by the user\n",
=======
    "- Request by a user \n",
>>>>>>> dbb4a30b523e80f19c96b14effe186a14821e0df
    "- Respond by the server \n",
    "- Parse the html data \n",
    "\n",
    "In most cases, collecting data from API is more convenient and legally safe. But when API does not exist, you have to do web scraping within *technical*, *legal*, and *ethical* boundaries. The issues around web scraping are complex because they are tied to Internet security, intellectual property, as well as knowledge as commons.\n"
   ]
  },
  {
   "cell_type": "markdown",
   "metadata": {},
   "source": [
    "## Request and respond\n",
    "\n",
    "In this tutorial, we use with the wikipedia entry of [Democracy Index](https://en.wikipedia.org/wiki/Democracy_Index). The main idea behind web scraping is to write code that mimics what web browser does. So, we start by learning how to make a request to a website. "
   ]
  },
  {
   "cell_type": "code",
   "execution_count": 1,
   "metadata": {},
   "outputs": [
    {
     "name": "stdout",
     "output_type": "stream",
     "text": [
      "The site is working\n"
     ]
    }
   ],
   "source": [
    "from urllib.request import urlopen \n",
    "from urllib.error import HTTPError\n",
    "from urllib.error import URLError\n",
    "\n",
    "try:\n",
    "    page = urlopen('https://en.wikipedia.org/wiki/Democracy_Index')\n",
    "except HTTPError as e:\n",
    "    print(e)\n",
    "except URLError as e:\n",
    "    print(\"The server is broken\")\n",
    "else:\n",
    "    print(\"The site is working\")"
   ]
  },
  {
   "cell_type": "markdown",
   "metadata": {},
   "source": [
    "You can read the requested document by  `page.read() `. It shows something. But it's not very informative especially for those who are less familiar with HTML and CSS."
   ]
  },
  {
   "cell_type": "code",
   "execution_count": 2,
   "metadata": {},
   "outputs": [
    {
     "name": "stdout",
     "output_type": "stream",
     "text": [
      "200\n"
     ]
    }
   ],
   "source": [
    "import requests \n",
    "\n",
    "page = requests.get('https://en.wikipedia.org/wiki/Democracy_Index')\n",
    "\n",
    "print(page.status_code) # to check whether the down was successful"
   ]
  },
  {
   "cell_type": "markdown",
   "metadata": {},
   "source": [
    "## Parse\n",
    "\n",
    "Python is a great tool for web scraping because its [beautiful soup](https://www.crummy.com/software/BeautifulSoup/) library makes parsing HTML so easy. You can install beautiful soup library in several ways.\n",
    "\n",
    "- 1. Unix/Linux: type `sudo apt-get install python-bs4` in terminal. This is same for Windows OS, though you should do it in bash.\n",
    "- 2. Mac: `sudo easy_install pip` (in case, you havent't installed pip already) then `pip install beautifulsoup4`"
   ]
  },
  {
   "cell_type": "markdown",
   "metadata": {},
   "source": [
    "### HTML parser"
   ]
  },
  {
   "cell_type": "markdown",
   "metadata": {},
   "source": [
    "The most popular parser is html.parser. For malformed HTML documents, lxml and html5lib parsers work better.   "
   ]
  },
  {
   "cell_type": "code",
   "execution_count": 3,
   "metadata": {},
   "outputs": [],
   "source": [
    "from bs4 import BeautifulSoup\n",
    "\n",
    "soup = BeautifulSoup(page.content, \"html.parser\")"
   ]
  },
  {
   "cell_type": "markdown",
   "metadata": {},
   "source": [
    "### Parsing HTML\n",
    "\n",
    "You can inspect the document using `print(soup.prettify())`. After exploring the web site of interest, you can extract parts of the document by identifying specific HTML/CSS tags or attributes. "
   ]
  },
  {
   "cell_type": "markdown",
   "metadata": {},
   "source": [
    "### Extracing a table"
   ]
  },
  {
   "cell_type": "code",
   "execution_count": 4,
   "metadata": {},
   "outputs": [],
   "source": [
    "wiki_table = soup.find('table',{'class':'wikitable sortable'})\n",
    "\n",
    "# the same code can be written in multiple ways ways \n",
    "# soup.find('table').find(class_= 'wikitable sortable')\n",
    "# also try sortable instead of wikitable sortable. Does it work?"
   ]
  },
  {
   "cell_type": "markdown",
   "metadata": {},
   "source": [
    "#### Specific solution"
   ]
  },
  {
   "cell_type": "markdown",
   "metadata": {},
   "source": [
    "Now, let's learn how to save the country information from the table using a particular attribute."
   ]
  },
  {
   "cell_type": "code",
   "execution_count": 5,
   "metadata": {},
   "outputs": [],
   "source": [
    "country_list = wiki_table('a') # by a (hyperlink)"
   ]
  },
  {
   "cell_type": "code",
   "execution_count": 6,
   "metadata": {},
   "outputs": [
    {
     "data": {
      "text/plain": [
       "<a href=\"/wiki/Netherlands\" title=\"Netherlands\">Netherlands</a>"
      ]
     },
     "execution_count": 6,
     "metadata": {},
     "output_type": "execute_result"
    }
   ],
   "source": [
    "country_list[10]"
   ]
  },
  {
   "cell_type": "code",
   "execution_count": 7,
   "metadata": {},
   "outputs": [
    {
     "name": "stdout",
     "output_type": "stream",
     "text": [
      "['Norway', 'Iceland', 'Sweden', 'New Zealand', 'Denmark', 'Republic of Ireland', 'Canada', 'Australia', 'Finland', 'Switzerland', 'Netherlands', 'Luxembourg', 'Germany', 'United Kingdom', 'Austria', 'Mauritius', 'Malta', 'Uruguay', 'Spain', 'South Korea', 'United States', 'Italy', 'Japan', 'Cape Verde', 'Costa Rica', 'Chile', 'Portugal', 'Botswana', 'France', 'Estonia', 'Israel', 'Belgium', 'Taiwan', 'Taiwan', 'Czech Republic', 'Cyprus', 'Slovenia', 'Lithuania', 'Greece', 'Jamaica', 'Latvia', 'South Africa', 'India', 'East Timor', 'Slovakia', 'Panama', 'Trinidad and Tobago', 'Bulgaria', 'Argentina', 'Brazil', 'Suriname', 'Philippines', 'Ghana', 'Poland', 'Colombia', 'Dominican Republic', 'Lesotho', 'Hungary', 'Croatia', 'Malaysia', 'Mongolia', 'Peru', 'Sri Lanka', 'Guyana', 'Romania', 'El Salvador', 'Serbia', 'Mexico', 'Indonesia', 'Tunisia', 'Singapore', 'Hong Kong', 'Namibia', 'Paraguay', 'Senegal', 'Papua New Guinea', 'Ecuador', 'Albania', 'Moldova', 'Georgia (country)', 'Guatemala', 'Fiji', 'Honduras', 'Ukraine', 'Montenegro', 'Zambia', 'Mali', 'Benin', 'Republic of Macedonia', 'Bolivia', 'Malawi', 'Tanzania', 'Bangladesh', 'Liberia', 'Nepal', 'Kenya', 'Kyrgyzstan', 'Madagascar', 'Uganda', 'Bhutan', 'Turkey', 'Morocco', 'Bosnia and Herzegovina', 'Burkina Faso', 'Lebanon', 'Sierra Leone', 'Nicaragua', 'Thailand', 'State of Palestine', 'Nigeria', 'Pakistan', 'Armenia', 'Iraq', 'The Gambia', 'Haiti', 'Mozambique', 'Ivory Coast', 'Jordan', 'Venezuela', 'Kuwait', 'Myanmar', 'Mauritania', 'Niger', 'Comoros', 'Cambodia', 'Angola', 'Gabon', 'Cameroon', 'Algeria', 'Ethiopia', 'Egypt', 'Cuba', 'Republic of the Congo', 'Qatar', 'Rwanda', 'Russia', 'Zimbabwe', 'Guinea', 'Belarus', 'China', 'Vietnam', 'Kazakhstan', 'Togo', 'Oman', 'Eswatini', 'Djibouti', 'Bahrain', 'United Arab Emirates', 'Azerbaijan', 'Afghanistan', 'Iran', 'Eritrea', 'Laos', 'Burundi', 'Libya', 'Sudan', 'Yemen', 'Guinea-Bissau', 'Uzbekistan', 'Saudi Arabia', 'Tajikistan', 'Equatorial Guinea', 'Turkmenistan', 'Democratic Republic of the Congo', 'Central African Republic', 'Chad', 'Syria', 'North Korea']\n"
     ]
    }
   ],
   "source": [
    "countries = []\n",
    "\n",
    "for country in country_list:\n",
    "    countries.append(country.get('title')) # we need get('title') to get only title information not \n",
    "    # the other elements of beautiful soup objects\n",
    "    \n",
    "print(countries)"
   ]
  },
  {
   "cell_type": "markdown",
   "metadata": {},
   "source": [
    "#### General solution"
   ]
  },
  {
   "cell_type": "markdown",
   "metadata": {},
   "source": [
    "We can scrap the entire table using looping. We also use regular expressions to differentiate strings from numbers (or some other tasks)."
   ]
  },
  {
   "cell_type": "code",
   "execution_count": 8,
   "metadata": {},
   "outputs": [
    {
     "data": {
      "text/plain": [
       "[<th data-sort-type=\"number\">Rank\n",
       " </th>, <th data-sort-type=\"text\">Country\n",
       " </th>, <th data-sort-type=\"number\">Score\n",
       " </th>, <th data-sort-type=\"number\" style=\"line-height: 1em;\">Electoral process<br/>and pluralism\n",
       " </th>, <th data-sort-type=\"number\" style=\"line-height: 1em;\">Functioning of<br/>government\n",
       " </th>, <th data-sort-type=\"number\" style=\"line-height: 1em;\">Political<br/>participation\n",
       " </th>, <th data-sort-type=\"number\" style=\"line-height: 1em;\">Political<br/>culture\n",
       " </th>, <th data-sort-type=\"number\" style=\"line-height: 1em;\">Civil<br/>liberties\n",
       " </th>, <th data-sort-type=\"number\">Category\n",
       " </th>, <th data-sort-type=\"number\">Rank\n",
       " </th>, <th data-sort-type=\"text\">Country\n",
       " </th>, <th data-sort-type=\"number\">Score\n",
       " </th>, <th data-sort-type=\"number\" style=\"line-height: 1em;\">Electoral process<br/>and pluralism\n",
       " </th>, <th data-sort-type=\"number\" style=\"line-height: 1em;\">Functioning of<br/>government\n",
       " </th>, <th data-sort-type=\"number\" style=\"line-height: 1em;\">Political<br/>participation\n",
       " </th>, <th data-sort-type=\"number\" style=\"line-height: 1em;\">Political<br/>culture\n",
       " </th>, <th data-sort-type=\"number\" style=\"line-height: 1em;\">Civil<br/>liberties\n",
       " </th>, <th data-sort-type=\"number\">Category\n",
       " </th>]"
      ]
     },
     "execution_count": 8,
     "metadata": {},
     "output_type": "execute_result"
    }
   ],
   "source": [
    "wiki_table.find_all('th') # heading \n",
    "#wiki_table.find_all('tr')[1].find_all('td') # to get some ideas about how looping would work \n",
    "#len(wiki_table.find_all('tr')[1].find_all('td'))"
   ]
  },
  {
   "cell_type": "code",
   "execution_count": 9,
   "metadata": {},
   "outputs": [
    {
     "name": "stdout",
     "output_type": "stream",
     "text": [
      "Something is wrong\n",
      "Something is wrong\n"
     ]
    }
   ],
   "source": [
    "import re\n",
    "\n",
    "# create empty lists\n",
    "rank = []  \n",
    "country = []\n",
    "score = []\n",
    "electoral = []  \n",
    "government = [] \n",
    "participation = []\n",
    "culture = []\n",
    "liberties = [] \n",
    "category = []\n",
    "\n",
    "for row in wiki_table.find_all('tr'): # for rows \n",
    "    cells = row.find_all('td') # to iterater through each row\n",
    "    if len(cells) == 9: # no heading\n",
    "        rank.append(cells[0].find(text=re.compile('[0-9]+'))) # to differentiate strings from numbers\n",
    "        country.append(cells[1].find_all(text=True))\n",
    "        score.append(cells[2].find(text=re.compile('[0-9]+')))\n",
    "        electoral.append(cells[3].find(text=re.compile('[0-9]+')))\n",
    "        government.append(cells[4].find(text=re.compile('[0-9]+')))\n",
    "        participation.append(cells[5].find(text=re.compile('[0-9]+')))\n",
    "        culture.append(cells[6].find(text=re.compile('[0-9]+')))\n",
    "        liberties.append(cells[7].find(text=re.compile('[0-9]+')))\n",
    "        category.append(cells[8].find(text=True))\n",
    "    else:\n",
    "        print(\"Something is wrong\") # for debugging"
   ]
  },
  {
   "cell_type": "markdown",
   "metadata": {},
   "source": [
    "**Questions**\n",
    "\n",
    "The above code told us something is wrong. Can you find what casued the problem?"
   ]
  },
  {
   "cell_type": "markdown",
   "metadata": {},
   "source": [
    "## Turn into a data frame"
   ]
  },
  {
   "cell_type": "markdown",
   "metadata": {},
   "source": [
    "Combine these lists as parts of the same data frame."
   ]
  },
  {
   "cell_type": "code",
   "execution_count": 10,
   "metadata": {},
   "outputs": [],
   "source": [
    "import pandas as pd # convention\n",
    "\n",
    "demo_pd = pd.DataFrame() # create a data frame\n",
    " \n",
    "demo_pd['rank'] = rank\n",
    "demo_pd['country'] = country\n",
    "demo_pd['score'] = score\n",
    "demo_pd['electoral'] = electoral\n",
    "demo_pd['government'] = government\n",
    "demo_pd['participation'] = participation\n",
    "demo_pd['culture'] = culture\n",
    "demo_pd['liberties'] = liberties\n",
    "demo_pd['category'] = category"
   ]
  },
  {
   "cell_type": "code",
   "execution_count": 11,
   "metadata": {},
   "outputs": [
    {
     "data": {
      "text/html": [
       "<div>\n",
       "<style scoped>\n",
       "    .dataframe tbody tr th:only-of-type {\n",
       "        vertical-align: middle;\n",
       "    }\n",
       "\n",
       "    .dataframe tbody tr th {\n",
       "        vertical-align: top;\n",
       "    }\n",
       "\n",
       "    .dataframe thead th {\n",
       "        text-align: right;\n",
       "    }\n",
       "</style>\n",
       "<table border=\"1\" class=\"dataframe\">\n",
       "  <thead>\n",
       "    <tr style=\"text-align: right;\">\n",
       "      <th></th>\n",
       "      <th>rank</th>\n",
       "      <th>country</th>\n",
       "      <th>score</th>\n",
       "      <th>electoral</th>\n",
       "      <th>government</th>\n",
       "      <th>participation</th>\n",
       "      <th>culture</th>\n",
       "      <th>liberties</th>\n",
       "      <th>category</th>\n",
       "    </tr>\n",
       "  </thead>\n",
       "  <tbody>\n",
       "    <tr>\n",
       "      <th>1</th>\n",
       "      <td>2</td>\n",
       "      <td>[ , Iceland]</td>\n",
       "      <td>9.58</td>\n",
       "      <td>10.00</td>\n",
       "      <td>9.29</td>\n",
       "      <td>8.89</td>\n",
       "      <td>10.00</td>\n",
       "      <td>9.71</td>\n",
       "      <td>Full democracy</td>\n",
       "    </tr>\n",
       "    <tr>\n",
       "      <th>2</th>\n",
       "      <td>3</td>\n",
       "      <td>[ , Sweden]</td>\n",
       "      <td>9.39</td>\n",
       "      <td>9.58</td>\n",
       "      <td>9.64</td>\n",
       "      <td>8.33</td>\n",
       "      <td>10.00</td>\n",
       "      <td>9.41</td>\n",
       "      <td>Full democracy</td>\n",
       "    </tr>\n",
       "    <tr>\n",
       "      <th>3</th>\n",
       "      <td>4</td>\n",
       "      <td>[ , New Zealand]</td>\n",
       "      <td>9.26</td>\n",
       "      <td>10.00</td>\n",
       "      <td>9.29</td>\n",
       "      <td>8.89</td>\n",
       "      <td>8.13</td>\n",
       "      <td>10.00</td>\n",
       "      <td>Full democracy</td>\n",
       "    </tr>\n",
       "    <tr>\n",
       "      <th>4</th>\n",
       "      <td>5</td>\n",
       "      <td>[ , Denmark]</td>\n",
       "      <td>9.22</td>\n",
       "      <td>10.00</td>\n",
       "      <td>9.29</td>\n",
       "      <td>8.33</td>\n",
       "      <td>9.38</td>\n",
       "      <td>9.12</td>\n",
       "      <td>Full democracy</td>\n",
       "    </tr>\n",
       "    <tr>\n",
       "      <th>5</th>\n",
       "      <td>=6</td>\n",
       "      <td>[ , Ireland]</td>\n",
       "      <td>9.15</td>\n",
       "      <td>9.58</td>\n",
       "      <td>7.86</td>\n",
       "      <td>8.33</td>\n",
       "      <td>10.00</td>\n",
       "      <td>10.00</td>\n",
       "      <td>Full democracy</td>\n",
       "    </tr>\n",
       "    <tr>\n",
       "      <th>6</th>\n",
       "      <td>=6</td>\n",
       "      <td>[ , Canada]</td>\n",
       "      <td>9.15</td>\n",
       "      <td>9.58</td>\n",
       "      <td>9.64</td>\n",
       "      <td>7.78</td>\n",
       "      <td>8.75</td>\n",
       "      <td>10.00</td>\n",
       "      <td>Full democracy</td>\n",
       "    </tr>\n",
       "    <tr>\n",
       "      <th>7</th>\n",
       "      <td>8</td>\n",
       "      <td>[ , Australia]</td>\n",
       "      <td>9.09</td>\n",
       "      <td>10.00</td>\n",
       "      <td>8.93</td>\n",
       "      <td>7.78</td>\n",
       "      <td>8.75</td>\n",
       "      <td>10.00</td>\n",
       "      <td>Full democracy</td>\n",
       "    </tr>\n",
       "    <tr>\n",
       "      <th>8</th>\n",
       "      <td>=9</td>\n",
       "      <td>[ , Finland]</td>\n",
       "      <td>9.03</td>\n",
       "      <td>10.00</td>\n",
       "      <td>8.93</td>\n",
       "      <td>7.78</td>\n",
       "      <td>8.75</td>\n",
       "      <td>9.71</td>\n",
       "      <td>Full democracy</td>\n",
       "    </tr>\n",
       "    <tr>\n",
       "      <th>9</th>\n",
       "      <td>=9</td>\n",
       "      <td>[  , Switzerland]</td>\n",
       "      <td>9.03</td>\n",
       "      <td>9.58</td>\n",
       "      <td>9.29</td>\n",
       "      <td>7.78</td>\n",
       "      <td>9.38</td>\n",
       "      <td>9.12</td>\n",
       "      <td>Full democracy</td>\n",
       "    </tr>\n",
       "    <tr>\n",
       "      <th>10</th>\n",
       "      <td>11</td>\n",
       "      <td>[ , Netherlands]</td>\n",
       "      <td>8.89</td>\n",
       "      <td>9.58</td>\n",
       "      <td>9.29</td>\n",
       "      <td>8.33</td>\n",
       "      <td>8.13</td>\n",
       "      <td>9.12</td>\n",
       "      <td>Full democracy</td>\n",
       "    </tr>\n",
       "    <tr>\n",
       "      <th>11</th>\n",
       "      <td>12</td>\n",
       "      <td>[ , Luxembourg]</td>\n",
       "      <td>8.81</td>\n",
       "      <td>10.00</td>\n",
       "      <td>8.93</td>\n",
       "      <td>6.67</td>\n",
       "      <td>8.75</td>\n",
       "      <td>9.71</td>\n",
       "      <td>Full democracy</td>\n",
       "    </tr>\n",
       "    <tr>\n",
       "      <th>12</th>\n",
       "      <td>13</td>\n",
       "      <td>[ , Germany]</td>\n",
       "      <td>8.61</td>\n",
       "      <td>9.58</td>\n",
       "      <td>8.21</td>\n",
       "      <td>8.33</td>\n",
       "      <td>7.50</td>\n",
       "      <td>9.41</td>\n",
       "      <td>Full democracy</td>\n",
       "    </tr>\n",
       "    <tr>\n",
       "      <th>13</th>\n",
       "      <td>14</td>\n",
       "      <td>[ , United Kingdom]</td>\n",
       "      <td>8.53</td>\n",
       "      <td>9.58</td>\n",
       "      <td>7.50</td>\n",
       "      <td>8.33</td>\n",
       "      <td>8.13</td>\n",
       "      <td>9.12</td>\n",
       "      <td>Full democracy</td>\n",
       "    </tr>\n",
       "    <tr>\n",
       "      <th>14</th>\n",
       "      <td>15</td>\n",
       "      <td>[ , Austria]</td>\n",
       "      <td>8.42</td>\n",
       "      <td>9.58</td>\n",
       "      <td>8.21</td>\n",
       "      <td>8.33</td>\n",
       "      <td>6.88</td>\n",
       "      <td>9.12</td>\n",
       "      <td>Full democracy</td>\n",
       "    </tr>\n",
       "    <tr>\n",
       "      <th>15</th>\n",
       "      <td>16</td>\n",
       "      <td>[ , Mauritius]</td>\n",
       "      <td>8.22</td>\n",
       "      <td>9.17</td>\n",
       "      <td>8.21</td>\n",
       "      <td>5.56</td>\n",
       "      <td>8.75</td>\n",
       "      <td>9.41</td>\n",
       "      <td>Full democracy</td>\n",
       "    </tr>\n",
       "    <tr>\n",
       "      <th>16</th>\n",
       "      <td>17</td>\n",
       "      <td>[ , Malta]</td>\n",
       "      <td>8.15</td>\n",
       "      <td>9.17</td>\n",
       "      <td>8.21</td>\n",
       "      <td>6.11</td>\n",
       "      <td>8.75</td>\n",
       "      <td>8.53</td>\n",
       "      <td>Full democracy</td>\n",
       "    </tr>\n",
       "    <tr>\n",
       "      <th>17</th>\n",
       "      <td>18</td>\n",
       "      <td>[ , Uruguay]</td>\n",
       "      <td>8.12</td>\n",
       "      <td>10.00</td>\n",
       "      <td>8.93</td>\n",
       "      <td>4.44</td>\n",
       "      <td>7.50</td>\n",
       "      <td>9.71</td>\n",
       "      <td>Full democracy</td>\n",
       "    </tr>\n",
       "    <tr>\n",
       "      <th>18</th>\n",
       "      <td>19</td>\n",
       "      <td>[ , Spain]</td>\n",
       "      <td>8.08</td>\n",
       "      <td>9.17</td>\n",
       "      <td>7.14</td>\n",
       "      <td>7.78</td>\n",
       "      <td>7.50</td>\n",
       "      <td>8.82</td>\n",
       "      <td>Full democracy</td>\n",
       "    </tr>\n",
       "    <tr>\n",
       "      <th>19</th>\n",
       "      <td>20</td>\n",
       "      <td>[ , South Korea]</td>\n",
       "      <td>8.00</td>\n",
       "      <td>9.17</td>\n",
       "      <td>7.86</td>\n",
       "      <td>7.22</td>\n",
       "      <td>7.50</td>\n",
       "      <td>8.24</td>\n",
       "      <td>Full democracy</td>\n",
       "    </tr>\n",
       "  </tbody>\n",
       "</table>\n",
       "</div>"
      ],
      "text/plain": [
       "   rank              country score electoral government participation culture  \\\n",
       "1     2         [ , Iceland]  9.58     10.00       9.29          8.89   10.00   \n",
       "2     3          [ , Sweden]  9.39      9.58       9.64          8.33   10.00   \n",
       "3     4     [ , New Zealand]  9.26     10.00       9.29          8.89    8.13   \n",
       "4     5         [ , Denmark]  9.22     10.00       9.29          8.33    9.38   \n",
       "5    =6         [ , Ireland]  9.15      9.58       7.86          8.33   10.00   \n",
       "6    =6          [ , Canada]  9.15      9.58       9.64          7.78    8.75   \n",
       "7     8       [ , Australia]  9.09     10.00       8.93          7.78    8.75   \n",
       "8    =9         [ , Finland]  9.03     10.00       8.93          7.78    8.75   \n",
       "9    =9    [  , Switzerland]  9.03      9.58       9.29          7.78    9.38   \n",
       "10   11     [ , Netherlands]  8.89      9.58       9.29          8.33    8.13   \n",
       "11   12      [ , Luxembourg]  8.81     10.00       8.93          6.67    8.75   \n",
       "12   13         [ , Germany]  8.61      9.58       8.21          8.33    7.50   \n",
       "13   14  [ , United Kingdom]  8.53      9.58       7.50          8.33    8.13   \n",
       "14   15         [ , Austria]  8.42      9.58       8.21          8.33    6.88   \n",
       "15   16       [ , Mauritius]  8.22      9.17       8.21          5.56    8.75   \n",
       "16   17           [ , Malta]  8.15      9.17       8.21          6.11    8.75   \n",
       "17   18         [ , Uruguay]  8.12     10.00       8.93          4.44    7.50   \n",
       "18   19           [ , Spain]  8.08      9.17       7.14          7.78    7.50   \n",
       "19   20     [ , South Korea]  8.00      9.17       7.86          7.22    7.50   \n",
       "\n",
       "   liberties        category  \n",
       "1       9.71  Full democracy  \n",
       "2       9.41  Full democracy  \n",
       "3      10.00  Full democracy  \n",
       "4       9.12  Full democracy  \n",
       "5      10.00  Full democracy  \n",
       "6      10.00  Full democracy  \n",
       "7      10.00  Full democracy  \n",
       "8       9.71  Full democracy  \n",
       "9       9.12  Full democracy  \n",
       "10      9.12  Full democracy  \n",
       "11      9.71  Full democracy  \n",
       "12      9.41  Full democracy  \n",
       "13      9.12  Full democracy  \n",
       "14      9.12  Full democracy  \n",
       "15      9.41  Full democracy  \n",
       "16      8.53  Full democracy  \n",
       "17      9.71  Full democracy  \n",
       "18      8.82  Full democracy  \n",
       "19      8.24  Full democracy  "
      ]
     },
     "execution_count": 11,
     "metadata": {},
     "output_type": "execute_result"
    }
   ],
   "source": [
    "demo_pd[1:20]"
   ]
  },
  {
   "cell_type": "markdown",
   "metadata": {},
   "source": [
    "**Challenges**\n",
    "\n",
    "But country column values look weird. What's going on? And how can you fix this?"
   ]
  },
  {
   "cell_type": "code",
   "execution_count": 12,
   "metadata": {},
   "outputs": [
    {
     "data": {
      "text/plain": [
       "bs4.element.ResultSet"
      ]
     },
     "execution_count": 12,
     "metadata": {},
     "output_type": "execute_result"
    }
   ],
   "source": [
    "type(demo_pd['country'][1])"
   ]
  },
  {
   "cell_type": "markdown",
   "metadata": {},
   "source": [
    "In fact, the solution was already suggested, when we learned how to extract a column using a particular HTML attribute. In the end, exploring both ways of scraping a table was not a waste of our time."
   ]
  },
  {
   "cell_type": "code",
   "execution_count": 13,
   "metadata": {},
   "outputs": [
    {
     "data": {
      "text/plain": [
       "'Norway'"
      ]
     },
     "execution_count": 13,
     "metadata": {},
     "output_type": "execute_result"
    }
   ],
   "source": [
    "wiki_table.find_all('tr')[1].find_all('td')[1].find('a').get('title') # get some ideas about how looping works \n"
   ]
  },
  {
   "cell_type": "markdown",
   "metadata": {},
   "source": [
    "## Export the file"
   ]
  },
  {
   "cell_type": "code",
   "execution_count": 14,
   "metadata": {},
   "outputs": [],
   "source": [
    "# demo_pd.to_csv(\"type the file address where you want to save the dataframe\")"
   ]
  }
 ],
 "metadata": {
  "kernelspec": {
   "display_name": "Python 3",
   "language": "python",
   "name": "python3"
  },
  "language_info": {
   "codemirror_mode": {
    "name": "ipython",
    "version": 3
   },
   "file_extension": ".py",
   "mimetype": "text/x-python",
   "name": "python",
   "nbconvert_exporter": "python",
   "pygments_lexer": "ipython3",
   "version": "3.6.6"
  }
 },
 "nbformat": 4,
 "nbformat_minor": 2
}
