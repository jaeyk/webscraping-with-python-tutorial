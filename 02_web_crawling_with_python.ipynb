{
 "cells": [
  {
   "cell_type": "markdown",
   "metadata": {},
   "source": [
    "# Web crawling\n",
    "\n",
    "The following content heavily draws on [Web Scraping with Python](https://proquest.safaribooksonline.com/book/programming/python/9781491985564) (2018) by Ryan Mitchell.\n",
    "\n",
    "- First, we learn how create a list of URLs from a webpage.\n",
    "- Second, we learn how to crawl through the list of these URLs."
   ]
  },
  {
   "cell_type": "markdown",
   "metadata": {},
   "source": [
    "## Web crawling \n",
    "\n",
    "The idea behind web scrawling is recursion. Instead of scraping one web page, we do the same process over and over different web pages (or websites) using Uinform Resource locations (or URLs). Since web crawling substantially increases work load of the target's server, do this very carefully again within *technical*, *legal*, and *ethical* boundaries.  "
   ]
  },
  {
   "cell_type": "markdown",
   "metadata": {},
   "source": [
    "### Create a list of URLs\n",
    "\n",
    "Since we're studying computational methods, let's look at the list of past winners of Turing Award -- the computer science equivalent to Nobel prizes and collect links from the URL.\n"
   ]
  },
  {
   "cell_type": "markdown",
   "metadata": {},
   "source": [
    "To begin with, let's find out whether we can gain access to the web page."
   ]
  },
  {
   "cell_type": "code",
   "execution_count": 1,
   "metadata": {},
   "outputs": [
    {
     "name": "stdout",
     "output_type": "stream",
     "text": [
      "The site is working\n"
     ]
    }
   ],
   "source": [
    "from urllib.request import urlopen \n",
    "from urllib.error import HTTPError\n",
    "from urllib.error import URLError\n",
    "\n",
    "try:\n",
    "    page = urlopen('https://en.wikipedia.org/wiki/Turing_Award')\n",
    "except HTTPError as e:\n",
    "    print(e)\n",
    "except URLError as e:\n",
    "    print(\"The server is broken\")\n",
    "else:\n",
    "    print(\"The site is working\")"
   ]
  },
  {
   "cell_type": "markdown",
   "metadata": {},
   "source": [
    "Then, let's scrap the table and the find the element (the URLs of the prize winners) we need."
   ]
  },
  {
   "cell_type": "code",
   "execution_count": 2,
   "metadata": {},
   "outputs": [],
   "source": [
    "from bs4 import BeautifulSoup\n",
    "\n",
    "soup = BeautifulSoup(page, \"html.parser\")\n",
    "\n",
    "wiki_table = soup.find('table',{'class':'wikitable'})"
   ]
  },
  {
   "cell_type": "markdown",
   "metadata": {},
   "source": [
    "Find some patterns we can exploit."
   ]
  },
  {
   "cell_type": "code",
   "execution_count": 3,
   "metadata": {},
   "outputs": [
    {
     "data": {
      "text/plain": [
       "'/wiki/Maurice_Wilkes'"
      ]
     },
     "execution_count": 3,
     "metadata": {},
     "output_type": "execute_result"
    }
   ],
   "source": [
    "import re\n",
    "\n",
    "wiki_table.find_all('tr')[1].find_all('td')[0].find('a').get('href') # first winner\n",
    "wiki_table.find_all('tr')[2].find_all('td')[0].find('a').get('href') # first winner"
   ]
  },
  {
   "cell_type": "markdown",
   "metadata": {},
   "source": [
    "Calculate the total number of prize winners. Remember each row in the table contains information about a prize winner."
   ]
  },
  {
   "cell_type": "code",
   "execution_count": 4,
   "metadata": {},
   "outputs": [
    {
     "data": {
      "text/plain": [
       "68"
      ]
     },
     "execution_count": 4,
     "metadata": {},
     "output_type": "execute_result"
    }
   ],
   "source": [
    "len(wiki_table.find_all('tr')) "
   ]
  },
  {
   "cell_type": "code",
   "execution_count": 5,
   "metadata": {},
   "outputs": [
    {
     "name": "stdout",
     "output_type": "stream",
     "text": [
      "/wiki/Alan_Perlis\n",
      "/wiki/Maurice_Wilkes\n",
      "/wiki/Richard_Hamming\n",
      "/wiki/Marvin_Minsky\n",
      "/wiki/James_H._Wilkinson\n",
      "/wiki/John_McCarthy_(computer_scientist)\n",
      "/wiki/Edsger_W._Dijkstra\n",
      "/wiki/Charles_Bachman\n",
      "/wiki/Donald_Knuth\n",
      "/wiki/Allen_Newell\n",
      "/wiki/Herbert_A._Simon\n",
      "/wiki/Michael_O._Rabin\n",
      "/wiki/Dana_Scott\n",
      "/wiki/John_Backus\n",
      "/wiki/Robert_W._Floyd\n",
      "/wiki/Kenneth_E._Iverson\n",
      "/wiki/Tony_Hoare\n",
      "/wiki/Edgar_F._Codd\n",
      "/wiki/Stephen_A._Cook\n",
      "/wiki/Ken_Thompson_(computer_programmer)\n",
      "/wiki/Dennis_M._Ritchie\n",
      "/wiki/Niklaus_Wirth\n",
      "/wiki/Richard_M._Karp\n",
      "/wiki/John_Hopcroft\n",
      "/wiki/Robert_Tarjan\n",
      "/wiki/John_Cocke\n",
      "/wiki/Ivan_Sutherland\n",
      "/wiki/William_Kahan\n",
      "/wiki/Fernando_J._Corbat%C3%B3\n",
      "/wiki/Robin_Milner\n",
      "/wiki/Butler_W._Lampson\n",
      "/wiki/Juris_Hartmanis\n",
      "/wiki/Richard_E._Stearns\n",
      "/wiki/Edward_Feigenbaum\n",
      "/wiki/Raj_Reddy\n",
      "/wiki/Manuel_Blum\n",
      "/wiki/Amir_Pnueli\n",
      "/wiki/Douglas_Engelbart\n",
      "/wiki/Jim_Gray_(computer_scientist)\n",
      "/wiki/Frederick_P._Brooks\n",
      "/wiki/Andrew_Chi-Chih_Yao\n",
      "/wiki/Ole-Johan_Dahl\n",
      "/wiki/Kristen_Nygaard\n",
      "/wiki/Ron_Rivest\n",
      "/wiki/Adi_Shamir\n",
      "/wiki/Leonard_Adleman\n",
      "/wiki/Alan_Kay\n",
      "/wiki/Vinton_G._Cerf\n",
      "/wiki/Robert_E._Kahn\n",
      "/wiki/Peter_Naur\n",
      "/wiki/Frances_E._Allen\n",
      "/wiki/Edmund_M._Clarke\n",
      "/wiki/E._Allen_Emerson\n",
      "/wiki/Joseph_Sifakis\n",
      "/wiki/Barbara_Liskov\n",
      "/wiki/Charles_P._Thacker\n",
      "/wiki/Leslie_G._Valiant\n",
      "/wiki/Judea_Pearl\n",
      "/wiki/Silvio_Micali\n",
      "/wiki/Shafi_Goldwasser\n",
      "/wiki/Leslie_Lamport\n",
      "/wiki/Michael_Stonebraker\n",
      "/wiki/Martin_E._Hellman\n",
      "/wiki/Whitfield_Diffie\n",
      "/wiki/Tim_Berners-Lee\n",
      "/wiki/John_L._Hennessy\n",
      "/wiki/David_Patterson_(computer_scientist)\n"
     ]
    }
   ],
   "source": [
    "links = []\n",
    "\n",
    "for i in range(0,67):\n",
    "    if i <= 67:\n",
    "        links.append(wiki_table.find_all('tr')[i+1].find_all('td')[0].find('a').get('href'))\n",
    "        print(links[i]) # to check whether we get the right list\n",
    "    else:\n",
    "        print(\"Something is wrong\") # for debugging"
   ]
  },
  {
   "cell_type": "markdown",
   "metadata": {},
   "source": [
    "**Challenge**\n",
    "\n",
    "But we have one problem. The links are not the full URLs we look for. We want \"https://en.wikipedia.org/wiki/Alan_Perlis\" not \"wiki/Alan_Perlis\". How can you fix this?"
   ]
  },
  {
   "cell_type": "code",
   "execution_count": 6,
   "metadata": {},
   "outputs": [
    {
     "data": {
      "text/plain": [
       "'https://en.wikipedia.org/wiki/Alan_Perlis'"
      ]
     },
     "execution_count": 6,
     "metadata": {},
     "output_type": "execute_result"
    }
   ],
   "source": [
    "''.join([\"https://en.wikipedia.org\",links[0]]) # using join method"
   ]
  },
  {
   "cell_type": "code",
   "execution_count": 7,
   "metadata": {},
   "outputs": [
    {
     "name": "stdout",
     "output_type": "stream",
     "text": [
      "https://en.wikipedia.org/wiki/Alan_Perlis\n",
      "https://en.wikipedia.org/wiki/Maurice_Wilkes\n",
      "https://en.wikipedia.org/wiki/Richard_Hamming\n",
      "https://en.wikipedia.org/wiki/Marvin_Minsky\n",
      "https://en.wikipedia.org/wiki/James_H._Wilkinson\n",
      "https://en.wikipedia.org/wiki/John_McCarthy_(computer_scientist)\n",
      "https://en.wikipedia.org/wiki/Edsger_W._Dijkstra\n",
      "https://en.wikipedia.org/wiki/Charles_Bachman\n",
      "https://en.wikipedia.org/wiki/Donald_Knuth\n",
      "https://en.wikipedia.org/wiki/Allen_Newell\n",
      "https://en.wikipedia.org/wiki/Herbert_A._Simon\n",
      "https://en.wikipedia.org/wiki/Michael_O._Rabin\n",
      "https://en.wikipedia.org/wiki/Dana_Scott\n",
      "https://en.wikipedia.org/wiki/John_Backus\n",
      "https://en.wikipedia.org/wiki/Robert_W._Floyd\n",
      "https://en.wikipedia.org/wiki/Kenneth_E._Iverson\n",
      "https://en.wikipedia.org/wiki/Tony_Hoare\n",
      "https://en.wikipedia.org/wiki/Edgar_F._Codd\n",
      "https://en.wikipedia.org/wiki/Stephen_A._Cook\n",
      "https://en.wikipedia.org/wiki/Ken_Thompson_(computer_programmer)\n",
      "https://en.wikipedia.org/wiki/Dennis_M._Ritchie\n",
      "https://en.wikipedia.org/wiki/Niklaus_Wirth\n",
      "https://en.wikipedia.org/wiki/Richard_M._Karp\n",
      "https://en.wikipedia.org/wiki/John_Hopcroft\n",
      "https://en.wikipedia.org/wiki/Robert_Tarjan\n",
      "https://en.wikipedia.org/wiki/John_Cocke\n",
      "https://en.wikipedia.org/wiki/Ivan_Sutherland\n",
      "https://en.wikipedia.org/wiki/William_Kahan\n",
      "https://en.wikipedia.org/wiki/Fernando_J._Corbat%C3%B3\n",
      "https://en.wikipedia.org/wiki/Robin_Milner\n",
      "https://en.wikipedia.org/wiki/Butler_W._Lampson\n",
      "https://en.wikipedia.org/wiki/Juris_Hartmanis\n",
      "https://en.wikipedia.org/wiki/Richard_E._Stearns\n",
      "https://en.wikipedia.org/wiki/Edward_Feigenbaum\n",
      "https://en.wikipedia.org/wiki/Raj_Reddy\n",
      "https://en.wikipedia.org/wiki/Manuel_Blum\n",
      "https://en.wikipedia.org/wiki/Amir_Pnueli\n",
      "https://en.wikipedia.org/wiki/Douglas_Engelbart\n",
      "https://en.wikipedia.org/wiki/Jim_Gray_(computer_scientist)\n",
      "https://en.wikipedia.org/wiki/Frederick_P._Brooks\n",
      "https://en.wikipedia.org/wiki/Andrew_Chi-Chih_Yao\n",
      "https://en.wikipedia.org/wiki/Ole-Johan_Dahl\n",
      "https://en.wikipedia.org/wiki/Kristen_Nygaard\n",
      "https://en.wikipedia.org/wiki/Ron_Rivest\n",
      "https://en.wikipedia.org/wiki/Adi_Shamir\n",
      "https://en.wikipedia.org/wiki/Leonard_Adleman\n",
      "https://en.wikipedia.org/wiki/Alan_Kay\n",
      "https://en.wikipedia.org/wiki/Vinton_G._Cerf\n",
      "https://en.wikipedia.org/wiki/Robert_E._Kahn\n",
      "https://en.wikipedia.org/wiki/Peter_Naur\n",
      "https://en.wikipedia.org/wiki/Frances_E._Allen\n",
      "https://en.wikipedia.org/wiki/Edmund_M._Clarke\n",
      "https://en.wikipedia.org/wiki/E._Allen_Emerson\n",
      "https://en.wikipedia.org/wiki/Joseph_Sifakis\n",
      "https://en.wikipedia.org/wiki/Barbara_Liskov\n",
      "https://en.wikipedia.org/wiki/Charles_P._Thacker\n",
      "https://en.wikipedia.org/wiki/Leslie_G._Valiant\n",
      "https://en.wikipedia.org/wiki/Judea_Pearl\n",
      "https://en.wikipedia.org/wiki/Silvio_Micali\n",
      "https://en.wikipedia.org/wiki/Shafi_Goldwasser\n",
      "https://en.wikipedia.org/wiki/Leslie_Lamport\n",
      "https://en.wikipedia.org/wiki/Michael_Stonebraker\n",
      "https://en.wikipedia.org/wiki/Martin_E._Hellman\n",
      "https://en.wikipedia.org/wiki/Whitfield_Diffie\n",
      "https://en.wikipedia.org/wiki/Tim_Berners-Lee\n",
      "https://en.wikipedia.org/wiki/John_L._Hennessy\n",
      "https://en.wikipedia.org/wiki/David_Patterson_(computer_scientist)\n"
     ]
    }
   ],
   "source": [
    "new_links = []\n",
    "\n",
    "for i in range(0,67):\n",
    "    if i <= 67:\n",
    "        new_links.append(''.join([\"https://en.wikipedia.org\",links[i]]))\n",
    "        print(new_links[i]) # to check whether we get the right list\n",
    "    else:\n",
    "        print(\"Something is wrong\") # for debugging"
   ]
  },
  {
   "cell_type": "markdown",
   "metadata": {},
   "source": [
    "### Crawl through the list"
   ]
  },
  {
   "cell_type": "markdown",
   "metadata": {},
   "source": [
    "Let's extract the birth information from each of the prize winner's Wikipage."
   ]
  },
  {
   "cell_type": "code",
   "execution_count": 8,
   "metadata": {},
   "outputs": [
    {
     "name": "stdout",
     "output_type": "stream",
     "text": [
      "The site is working\n"
     ]
    },
    {
     "data": {
      "text/plain": [
       "'(1922-04-01)April 1, 1922Pittsburgh, Pennsylvania, U.S.'"
      ]
     },
     "execution_count": 8,
     "metadata": {},
     "output_type": "execute_result"
    }
   ],
   "source": [
    "try:\n",
    "    test_page = urlopen(new_links[0])\n",
    "except HTTPError as e:\n",
    "    print(e)\n",
    "except URLError as e:\n",
    "    print(\"The server is broken\")\n",
    "else:\n",
    "    print(\"The site is working\")\n",
    "    \n",
    "test_soup = BeautifulSoup(test_page, \"html.parser\")\n",
    "test_infobox = test_soup.find(\"table\",{\"class\":\"vcard\"})\n",
    "\n",
    "test_infobox.find(text = re.compile(\"Born\")).find_next().text"
   ]
  },
  {
   "cell_type": "markdown",
   "metadata": {},
   "source": [
    "Now we loop the code over the list."
   ]
  },
  {
   "cell_type": "code",
   "execution_count": 9,
   "metadata": {},
   "outputs": [],
   "source": [
    "birth_list = []\n",
    "\n",
    "for url in new_links:\n",
    "    req = urlopen(url)\n",
    "    page = BeautifulSoup(req, 'html.parser')\n",
    "    birth = page.find(\"table\",{\"class\":\"vcard\"}).find(text = re.compile(\"Born\")).find_next().text\n",
    "    birth_list.append(birth)"
   ]
  },
  {
   "cell_type": "code",
   "execution_count": 10,
   "metadata": {},
   "outputs": [
    {
     "data": {
      "text/plain": [
       "['(1922-04-01)April 1, 1922Pittsburgh, Pennsylvania, U.S.',\n",
       " 'John Maurice Vincent Wilkes(1913-06-26)26 June 1913Dudley, Worcestershire, England',\n",
       " '(1915-02-11)February 11, 1915Chicago, Illinois, U.S.',\n",
       " 'Marvin Lee Minsky(1927-08-09)August 9, 1927New York City, New York, U.S.',\n",
       " 'James Hardy Wilkinson(1919-09-27)27 September 1919Strood, England',\n",
       " '(1927-09-04)September 4, 1927Boston, Massachusetts, U.S.',\n",
       " '(1930-05-11)11 May 1930Rotterdam, Netherlands',\n",
       " 'Charles William Bachman III(1924-12-11)December 11, 1924Manhattan, Kansas',\n",
       " 'Donald Ervin Knuth (1938-01-10) January 10, 1938 (age\\xa080)Milwaukee, Wisconsin, U.S.',\n",
       " '(1927-03-19)March 19, 1927San Francisco',\n",
       " 'Herbert Alexander Simon(1916-06-15)June 15, 1916Milwaukee, Wisconsin',\n",
       " ' (1931-09-01) September 1, 1931 (age\\xa087)Breslau, Germany',\n",
       " ' (1932-10-11) October 11, 1932 (age\\xa086)Berkeley, California',\n",
       " 'John Warner Backus(1924-12-03)December 3, 1924Philadelphia, Pennsylvania',\n",
       " '(1936-06-08)June 8, 1936New York City, New York, U.S.',\n",
       " '(1920-12-17)17 December 1920Camrose, Alberta, Canada',\n",
       " 'Charles Antony Richard Hoare (1934-01-11) 11 January 1934 (age\\xa084)Colombo, British Ceylon',\n",
       " 'Edgar Frank Codd(1923-08-19)19 August 1923[1][2]Fortuneswell, Dorset, England',\n",
       " 'Stephen Arthur Cook (1939-12-14) December 14, 1939 (age\\xa079)Buffalo, New York',\n",
       " ' (1943-02-04) February 4, 1943 (age\\xa075)New Orleans, Louisiana, U.S.']"
      ]
     },
     "execution_count": 10,
     "metadata": {},
     "output_type": "execute_result"
    }
   ],
   "source": [
    "birth_list[0:20]"
   ]
  }
 ],
 "metadata": {
  "kernelspec": {
   "display_name": "Python 3",
   "language": "python",
   "name": "python3"
  },
  "language_info": {
   "codemirror_mode": {
    "name": "ipython",
    "version": 3
   },
   "file_extension": ".py",
   "mimetype": "text/x-python",
   "name": "python",
   "nbconvert_exporter": "python",
   "pygments_lexer": "ipython3",
   "version": "3.6.6"
  }
 },
 "nbformat": 4,
 "nbformat_minor": 2
}
